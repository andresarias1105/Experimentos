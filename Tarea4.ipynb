{
 "cells": [
  {
   "cell_type": "code",
   "execution_count": 28,
   "id": "82c96761",
   "metadata": {},
   "outputs": [],
   "source": [
    "import numpy as np\n",
    "import matplotlib.pyplot as plt\n",
    "from scipy.optimize import curve_fit"
   ]
  },
  {
   "cell_type": "markdown",
   "id": "2cdb063e",
   "metadata": {},
   "source": [
    "5.3)\n"
   ]
  },
  {
   "cell_type": "code",
   "execution_count": 29,
   "id": "6fd192b5",
   "metadata": {},
   "outputs": [],
   "source": [
    "x_data=np.array([10,20,30,40,50,60,70,80,90])\n",
    "y_data=np.array([0.98,1.98,2.98,3.97,4.95,5.95,6.93,7.93,8.91])\n",
    "sigmay_exp=np.full(len(y_data),0.01)"
   ]
  },
  {
   "cell_type": "code",
   "execution_count": 87,
   "id": "1168dd24",
   "metadata": {},
   "outputs": [],
   "source": [
    "def fit_lineal(x,y):\n",
    "    \n",
    "    N=len(x)\n",
    "    \n",
    "    delta=N*np.sum(x**2)-(np.sum(x))**2\n",
    "    \n",
    "    m=(N*(np.sum(x*y))-(np.sum(x)*np.sum(y)))/delta \n",
    "    \n",
    "    c =((np.sum(x**2)*np.sum(y))-(np.sum(x)*np.sum(x*y)))/delta\n",
    "    \n",
    "    alpha_CU=np.sqrt((np.sum((y-m*x-c)**2))/(N-2))\n",
    "     \n",
    "    sigma_c= alpha_CU*np.sqrt(np.sum(x**2)/delta)\n",
    "    sigma_m=alpha_CU*np.sqrt(N/delta)\n",
    "       \n",
    "    return m,c,alpha_CU,sigma_m,sigma_c\n",
    "\n",
    "def modelo(x,m,c):\n",
    "    \n",
    "    return (m*x) +c \n",
    "        "
   ]
  },
  {
   "cell_type": "code",
   "execution_count": 88,
   "id": "63021e18",
   "metadata": {},
   "outputs": [
    {
     "name": "stdout",
     "output_type": "stream",
     "text": [
      "La pendiente optima es: 0.09908333333333333\n",
      "El intercepto optimo es: -0.0008333333333333334\n",
      "La incertiduembre comun es: 0.007154752000627286\n"
     ]
    }
   ],
   "source": [
    "m,c,alpha_CU,sigma_m,sigma_c=fit_lineal(x_data,y_data)\n",
    "\n",
    "print(\"La pendiente optima es:\",m)\n",
    "print(\"El intercepto optimo es:\",c)\n",
    "\n",
    "print(\"La incertiduembre comun es:\",alpha_CU)  \n",
    "\n",
    "\n",
    "\n",
    "#El valor de alpha_CU es del mismo orden de magnitud de la incertidumbre experimental 0.01\n",
    "#El valor calculado es menor ya que en el modelo no se tienen en cuenta los errores experimentales\n",
    "#de medicion, ni la propagacion de errores"
   ]
  },
  {
   "cell_type": "code",
   "execution_count": 89,
   "id": "5a156593",
   "metadata": {},
   "outputs": [
    {
     "data": {
      "text/plain": [
       "[<matplotlib.lines.Line2D at 0x282efe66be0>]"
      ]
     },
     "execution_count": 89,
     "metadata": {},
     "output_type": "execute_result"
    },
    {
     "data": {
      "image/png": "[encoded data removed]",
      "text/plain": [
       "<Figure size 432x288 with 1 Axes>"
      ]
     },
     "metadata": {
      "needs_background": "light"
     },
     "output_type": "display_data"
    }
   ],
   "source": [
    "x_=np.linspace(0,100,100)\n",
    "y_pred=modelo(x_data,m,c)\n",
    "plt.scatter(x_data,y_data)\n",
    "plt.plot(x_,modelo(x_,m,c))"
   ]
  },
  {
   "cell_type": "code",
   "execution_count": 90,
   "id": "8c8c3e41",
   "metadata": {},
   "outputs": [],
   "source": [
    "residuales =(y_data-y_pred)"
   ]
  },
  {
   "cell_type": "code",
   "execution_count": 91,
   "id": "fdd3e073",
   "metadata": {},
   "outputs": [
    {
     "data": {
      "text/plain": [
       "array([-0.01      , -0.00083333,  0.00833333,  0.0075    , -0.00333333,\n",
       "        0.00583333, -0.005     ,  0.00416667, -0.00666667])"
      ]
     },
     "execution_count": 91,
     "metadata": {},
     "output_type": "execute_result"
    }
   ],
   "source": [
    "residuales"
   ]
  },
  {
   "cell_type": "code",
   "execution_count": 92,
   "id": "fe31f737",
   "metadata": {},
   "outputs": [
    {
     "data": {
      "text/plain": [
       "<matplotlib.lines.Line2D at 0x282efed5b80>"
      ]
     },
     "execution_count": 92,
     "metadata": {},
     "output_type": "execute_result"
    },
    {
     "data": {
      "image/png": "[encoded data removed]",
      "text/plain": [
       "<Figure size 432x288 with 1 Axes>"
      ]
     },
     "metadata": {
      "needs_background": "light"
     },
     "output_type": "display_data"
    }
   ],
   "source": [
    "plt.scatter(x_data,residuales)\n",
    "plt.axhline(y=0,ls=\"--\")\n",
    "plt.axhline(y=alpha_CU,ls=\"--\",c=\"r\")\n",
    "plt.axhline(y=-alpha_CU,ls=\"--\",c=\"r\")"
   ]
  },
  {
   "cell_type": "markdown",
   "id": "c8607d8b",
   "metadata": {},
   "source": [
    "6.1)"
   ]
  },
  {
   "cell_type": "code",
   "execution_count": 95,
   "id": "0d6a4601",
   "metadata": {},
   "outputs": [
    {
     "name": "stdout",
     "output_type": "stream",
     "text": [
      "La pendiente optima es: 1.9072727272727272\n",
      "El intercepto optimo es: -0.07272727272727272\n",
      "La incertiduembre comun es: 15.726706359861016\n",
      "La incertiduembre en la pendiente es: 0.14994826166178207\n",
      "La incertiduembre en el intercepto es: 10.169985909862177\n"
     ]
    }
   ],
   "source": [
    "frequency=np.array([10,20,30,40,50,60,70,80,90,100,110])\n",
    "voltaje=np.array([16,45,64,75,70,115,142,167,183,160,221])\n",
    "error=np.array([5,5,5,5,30,5,5,5,5,30,5])\n",
    "\n",
    "\n",
    "m_v,c_v,alpha_CUV,sigma_mv,sigma_cv=fit_lineal(frequency,voltaje)\n",
    "\n",
    "print(\"La pendiente optima es:\",m_v)\n",
    "print(\"El intercepto optimo es:\",c_v)\n",
    "\n",
    "print(\"La incertiduembre comun es:\",alpha_CUV) \n",
    "\n",
    "print(\"La incertiduembre en la pendiente es:\",sigma_mv) \n",
    "\n",
    "print(\"La incertiduembre en el intercepto es:\",sigma_cv) "
   ]
  },
  {
   "cell_type": "markdown",
   "id": "17ac9236",
   "metadata": {},
   "source": [
    "Los Valores son consistentes con la tabla 6.1"
   ]
  },
  {
   "cell_type": "code",
   "execution_count": null,
   "id": "61f6f14a",
   "metadata": {},
   "outputs": [],
   "source": []
  }
 ],
 "metadata": {
  "kernelspec": {
   "display_name": "Python 3 (ipykernel)",
   "language": "python",
   "name": "python3"
  },
  "language_info": {
   "codemirror_mode": {
    "name": "ipython",
    "version": 3
   },
   "file_extension": ".py",
   "mimetype": "text/x-python",
   "name": "python",
   "nbconvert_exporter": "python",
   "pygments_lexer": "ipython3",
   "version": "3.9.7"
  }
 },
 "nbformat": 4,
 "nbformat_minor": 5
}
