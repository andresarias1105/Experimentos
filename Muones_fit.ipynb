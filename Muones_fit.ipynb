{
 "cells": [
  {
   "cell_type": "code",
   "execution_count": 5,
   "id": "3873569e",
   "metadata": {},
   "outputs": [
    {
     "name": "stdout",
     "output_type": "stream",
     "text": [
      "        40000  1725063341\n",
      "0       40000  1725063342\n",
      "1       40007  1725063343\n",
      "2       40006  1725063344\n",
      "3       40010  1725063345\n",
      "4       40009  1725063346\n",
      "...       ...         ...\n",
      "248025  40002  1725304274\n",
      "248026  40009  1725304275\n",
      "248027  40000  1725304276\n",
      "248028  40000  1725304277\n",
      "248029  40000  1725304278\n",
      "\n",
      "[248030 rows x 2 columns]\n"
     ]
    }
   ],
   "source": [
    "import numpy as np\n",
    "import pandas as pd\n",
    "import matplotlib.pyplot as plt\n",
    "from scipy.optimize import curve_fit\n",
    "from uncertainties import ufloat\n",
    "\n",
    "data= \"Data/24-08-30-19-15.txt\"\n",
    "data = pd.read_csv(data, sep=\" \")\n",
    "print(data)"
   ]
  },
  {
   "cell_type": "code",
   "execution_count": 6,
   "id": "717927ea",
   "metadata": {},
   "outputs": [],
   "source": [
    "Decay_times=data.iloc[:,0]"
   ]
  },
  {
   "cell_type": "code",
   "execution_count": 7,
   "id": "ac597771",
   "metadata": {},
   "outputs": [
    {
     "data": {
      "text/plain": [
       "0         40000\n",
       "1         40007\n",
       "2         40006\n",
       "3         40010\n",
       "4         40009\n",
       "          ...  \n",
       "248025    40002\n",
       "248026    40009\n",
       "248027    40000\n",
       "248028    40000\n",
       "248029    40000\n",
       "Name: 40000, Length: 248030, dtype: int64"
      ]
     },
     "execution_count": 7,
     "metadata": {},
     "output_type": "execute_result"
    }
   ],
   "source": [
    "Decay_times"
   ]
  },
  {
   "cell_type": "code",
   "execution_count": 8,
   "id": "cfa4c378",
   "metadata": {},
   "outputs": [],
   "source": [
    "Decay_times=np.sort(Decay_times)\n"
   ]
  },
  {
   "cell_type": "code",
   "execution_count": 9,
   "id": "97e588d2",
   "metadata": {},
   "outputs": [
    {
     "data": {
      "text/plain": [
       "array([   40,    40,    40, ..., 40029, 40050, 40139], dtype=int64)"
      ]
     },
     "execution_count": 9,
     "metadata": {},
     "output_type": "execute_result"
    }
   ],
   "source": [
    "Decay_times"
   ]
  },
  {
   "cell_type": "code",
   "execution_count": 10,
   "id": "a5bba56d",
   "metadata": {},
   "outputs": [
    {
     "name": "stdout",
     "output_type": "stream",
     "text": [
      "7171\n"
     ]
    }
   ],
   "source": [
    "filter_i=0\n",
    "for i in range(len(Decay_times)):\n",
    "    \n",
    "    if  Decay_times[i]>= 40000:\n",
    "        \n",
    "        filter_i=i\n",
    "        \n",
    "        break\n",
    "        \n",
    "\n",
    "print(filter_i)"
   ]
  },
  {
   "cell_type": "code",
   "execution_count": 11,
   "id": "c576bcf5",
   "metadata": {},
   "outputs": [
    {
     "name": "stdout",
     "output_type": "stream",
     "text": [
      "[ 0.04  0.04  0.04 ... 19.76 19.8  19.94]\n"
     ]
    }
   ],
   "source": [
    "Decay_Filtered=Decay_times[0:filter_i-1] /1000\n",
    "\n",
    "print(Decay_Filtered)"
   ]
  },
  {
   "cell_type": "code",
   "execution_count": 12,
   "id": "bc277730",
   "metadata": {},
   "outputs": [
    {
     "data": {
      "text/plain": [
       "7170"
      ]
     },
     "execution_count": 12,
     "metadata": {},
     "output_type": "execute_result"
    }
   ],
   "source": [
    "N_muons=(len(Decay_Filtered))\n",
    "N_muons"
   ]
  },
  {
   "cell_type": "code",
   "execution_count": 32,
   "id": "5a0d552a",
   "metadata": {},
   "outputs": [],
   "source": [
    "hist, bin_edges = np.histogram(Decay_Filtered,bins=25)"
   ]
  },
  {
   "cell_type": "code",
   "execution_count": 33,
   "id": "40a3e055",
   "metadata": {},
   "outputs": [
    {
     "data": {
      "text/plain": [
       "(array([2274, 1483, 1049,  706,  507,  329,  215,  167,  103,   77,   52,\n",
       "          31,   33,   27,   23,   15,   18,   13,    6,    7,    4,    8,\n",
       "           6,    8,    9], dtype=int64),\n",
       " array([ 0.04 ,  0.836,  1.632,  2.428,  3.224,  4.02 ,  4.816,  5.612,\n",
       "         6.408,  7.204,  8.   ,  8.796,  9.592, 10.388, 11.184, 11.98 ,\n",
       "        12.776, 13.572, 14.368, 15.164, 15.96 , 16.756, 17.552, 18.348,\n",
       "        19.144, 19.94 ]))"
      ]
     },
     "execution_count": 33,
     "metadata": {},
     "output_type": "execute_result"
    }
   ],
   "source": [
    "hist,bin_edges"
   ]
  },
  {
   "cell_type": "code",
   "execution_count": 34,
   "id": "834ade10",
   "metadata": {},
   "outputs": [],
   "source": [
    "Decay_Filter_pd=pd.DataFrame(Decay_Filtered)"
   ]
  },
  {
   "cell_type": "code",
   "execution_count": 35,
   "id": "1d5b57a8",
   "metadata": {},
   "outputs": [
    {
     "data": {
      "text/plain": [
       "2.3289718270571833"
      ]
     },
     "execution_count": 35,
     "metadata": {},
     "output_type": "execute_result"
    },
    {
     "data": {
      "image/png": "[encoded data removed]",
      "text/plain": [
       "<Figure size 720x576 with 1 Axes>"
      ]
     },
     "metadata": {
      "needs_background": "light"
     },
     "output_type": "display_data"
    }
   ],
   "source": [
    "\n",
    "Decay_Filter_pd.plot.hist(grid=True, bins=20, rwidth=0.9,\n",
    "                   color='#607c8e',figsize=(10,8),label=\"Conteos de decaimientos de muones\")\n",
    "bin_pos=[]\n",
    "for i in range(1,len(bin_edges)):\n",
    "       bin_pos.append((bin_edges[i]+bin_edges[i-1])/2) \n",
    "        \n",
    "mean=np.sum(hist*bin_pos)/N_muons\n",
    "mean\n",
    "\n"
   ]
  },
  {
   "cell_type": "code",
   "execution_count": 36,
   "id": "c58cc742",
   "metadata": {},
   "outputs": [],
   "source": [
    "N_t=N_muons-np.cumsum(hist)\n",
    "N_t=np.append(N_muons,N_t)\n",
    "N_t\n",
    "bin_edges[0]=0\n",
    "\n"
   ]
  },
  {
   "cell_type": "code",
   "execution_count": 51,
   "id": "f11e6b2b",
   "metadata": {},
   "outputs": [
    {
     "name": "stderr",
     "output_type": "stream",
     "text": [
      "C:\\Users\\THINKB~1\\AppData\\Local\\Temp/ipykernel_17676/2632868782.py:2: RuntimeWarning: overflow encountered in exp\n",
      "  return a*np.exp(-b*X) + D\n"
     ]
    },
    {
     "data": {
      "text/plain": [
       "<matplotlib.collections.PathCollection at 0x219eac48940>"
      ]
     },
     "execution_count": 51,
     "metadata": {},
     "output_type": "execute_result"
    },
    {
     "data": {
      "image/png": "[encoded data removed]",
      "text/plain": [
       "<Figure size 432x288 with 1 Axes>"
      ]
     },
     "metadata": {
      "needs_background": "light"
     },
     "output_type": "display_data"
    }
   ],
   "source": [
    "def fit_exp(X,a,b,D):\n",
    "    return a*np.exp(-b*X) + D\n",
    "\n",
    "\n",
    "popt, pcov = curve_fit(fit_exp,bin_edges,N_t,maxfev=4000)\n",
    "x=np.linspace(0,20,100)\n",
    "plt.plot(x, fit_exp(x,*popt), linewidth=2, label=\"Ajuste de la forma $N(t)=Ae^{t/b}$\",ls=\"--\")\n",
    "plt.scatter(bin_edges,N_t)"
   ]
  },
  {
   "cell_type": "code",
   "execution_count": 52,
   "id": "16668e5f",
   "metadata": {},
   "outputs": [
    {
     "data": {
      "text/plain": [
       "2.180125844472653"
      ]
     },
     "execution_count": 52,
     "metadata": {},
     "output_type": "execute_result"
    }
   ],
   "source": [
    "popt\n",
    "tau=1/popt[1]\n",
    "\n",
    "tau"
   ]
  },
  {
   "cell_type": "code",
   "execution_count": 39,
   "id": "8e6f5f8f",
   "metadata": {},
   "outputs": [
    {
     "data": {
      "text/plain": [
       "0.0028740781876128237"
      ]
     },
     "execution_count": 39,
     "metadata": {},
     "output_type": "execute_result"
    }
   ],
   "source": [
    "np.sqrt(pcov[1,1])"
   ]
  },
  {
   "cell_type": "code",
   "execution_count": 40,
   "id": "5d0e32f9",
   "metadata": {},
   "outputs": [
    {
     "name": "stdout",
     "output_type": "stream",
     "text": [
      "2.1801+/-0.0029\n"
     ]
    }
   ],
   "source": [
    "t_mean= ufloat(tau,np.sqrt(pcov[1,1]))\n",
    "print(t_mean)"
   ]
  },
  {
   "cell_type": "code",
   "execution_count": null,
   "id": "66c56dd7",
   "metadata": {},
   "outputs": [],
   "source": []
  }
 ],
 "metadata": {
  "kernelspec": {
   "display_name": "Python 3 (ipykernel)",
   "language": "python",
   "name": "python3"
  },
  "language_info": {
   "codemirror_mode": {
    "name": "ipython",
    "version": 3
   },
   "file_extension": ".py",
   "mimetype": "text/x-python",
   "name": "python",
   "nbconvert_exporter": "python",
   "pygments_lexer": "ipython3",
   "version": "3.9.7"
  }
 },
 "nbformat": 4,
 "nbformat_minor": 5
}
